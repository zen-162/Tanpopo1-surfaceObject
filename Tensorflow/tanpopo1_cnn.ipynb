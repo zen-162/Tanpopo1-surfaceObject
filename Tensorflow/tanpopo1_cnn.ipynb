{
  "cells": [
    {
      "cell_type": "markdown",
      "metadata": {
        "id": "yULMX4RI_-Kj"
      },
      "source": [
        "# ［たんぽぽ］表面付着物の分類"
      ]
    },
    {
      "cell_type": "code",
      "execution_count": null,
      "metadata": {
        "id": "gyewoa9dAOdV"
      },
      "outputs": [],
      "source": [
        "from google.colab import drive\n",
        "drive.mount('/content/drive')\n",
        "%cd /content/drive/MyDrive\n",
        "import os\n",
        "os.chdir('/content/drive/MyDrive/Data_HonokaKiryu/')"
      ]
    },
    {
      "cell_type": "code",
      "execution_count": null,
      "metadata": {
        "id": "u1oveX-3AU5y"
      },
      "outputs": [],
      "source": [
        "import tensorflow as tf\n",
        "import keras"
      ]
    },
    {
      "cell_type": "code",
      "execution_count": null,
      "metadata": {
        "id": "T9IFl5xOVtPl"
      },
      "outputs": [],
      "source": [
        "#from tensorflow.keras.models import Sequential\n",
        "from tensorflow.keras.layers import Dense, Conv2D, Flatten, Dropout, MaxPooling2D, Input\n",
        "#from keras.layers import Input, GlobalAveragePooling2D\n",
        "from tensorflow.keras.preprocessing.image import ImageDataGenerator\n",
        "\n",
        "#import os\n",
        "import numpy as np\n",
        "import matplotlib.pyplot as plt\n",
        "import pandas as pd"
      ]
    },
    {
      "cell_type": "code",
      "execution_count": null,
      "metadata": {
        "id": "HiPwdT9BWHuS"
      },
      "outputs": [],
      "source": [
        "from tensorflow.keras.models import Sequential, model_from_json\n",
        "from tensorflow.keras.optimizers import RMSprop\n",
        "from tensorflow.keras.datasets import cifar10\n",
        "from tensorflow.keras.preprocessing.image import array_to_img, img_to_array, load_img\n",
        "from tensorflow.keras.utils import to_categorical\n",
        "#from sklearn.model_selection import train_test_split\n",
        "import re\n",
        "import pickle\n",
        "from sklearn.model_selection import KFold\n",
        "from sklearn.model_selection import train_test_split\n",
        "from tensorflow.keras.applications.vgg16 import VGG16, preprocess_input\n",
        "\n",
        "import tensorflow.keras.backend as K\n",
        "from sklearn.metrics import confusion_matrix\n",
        "\n",
        "import seaborn as sns\n",
        "\n",
        "#from keras.callbacks import TensorBoard\n",
        "#from keras.datasets import mnist\n",
        "#from keras.layers import Input, Dense\n",
        "#from keras.models import Model"
      ]
    },
    {
      "cell_type": "code",
      "execution_count": null,
      "metadata": {
        "id": "-wRgIMGUW0tU"
      },
      "outputs": [],
      "source": [
        "#画像サイズがが704x480 #88x60\n",
        "IMG_HEIGHT = 224\n",
        "IMG_WIDTH = 224"
      ]
    },
    {
      "cell_type": "code",
      "execution_count": null,
      "metadata": {
        "id": "eNGupCnnuqmE"
      },
      "outputs": [],
      "source": [
        "batch_size =  \"16\" #@param[8, 16, 32, 64, 128, 256]\n",
        "batch_size = int(batch_size)"
      ]
    },
    {
      "cell_type": "code",
      "execution_count": null,
      "metadata": {
        "id": "07aurdYLv8qt"
      },
      "outputs": [],
      "source": [
        "epochs = \"18\" #@param[12, 13, 14, 15, 16, 17, 18, 19, 20, 21, 22, 23, 24]\n",
        "epochs = int(epochs)"
      ]
    },
    {
      "cell_type": "markdown",
      "metadata": {
        "id": "kEOoPzrBbXye"
      },
      "source": [
        "## データの読み込み"
      ]
    },
    {
      "cell_type": "code",
      "execution_count": null,
      "metadata": {
        "id": "Bl6XmiZ8ZdJ8"
      },
      "outputs": [],
      "source": [
        "# データの保蔵先ディレクトリー\n",
        "SAVE_DATE_DIR_PATH = \"/content/drive/MyDrive/Data_HonokaKiryu/\"\n",
        "train_dir = \"/content/drive/MyDrive/Data_HonokaKiryu/TrainingData11\"\n",
        "test_dir = \"/content/drive/MyDrive/Data_HonokaKiryu/TestData11\"\n",
        "\n",
        "train_sputter_dir = os.path.join(train_dir, '1Sputter') #学習用のSputterのディレクトリ\n",
        "train_fiber_dir = os.path.join(train_dir, '2Fiber') #学習用のFiberのディレクトリ\n",
        "train_block_dir = os.path.join(train_dir, '3Block') #学習用のBlockのディレクトリ\n",
        "train_bar_dir = os.path.join(train_dir, '4Bar') #学習用のBarのディレクトリ\n",
        "train_agfragment_dir = os.path.join(train_dir, '5AGFragment') #学習用のAGFragmentのデェレクトリ\n",
        "\n",
        "test_sputter_dir = os.path.join(test_dir, '1Sputter') #テスト用のSputterのデェレクトリ\n",
        "test_fiber_dir = os.path.join(test_dir, '2Fiber') #テスト用のFiberのデェレクトリ\n",
        "test_block_dir = os.path.join(test_dir, '3Block') #テスト用のBlockのデェレクトリ\n",
        "test_bar_dir = os.path.join(test_dir, '4Bar') #テスト用のBarのデェレクトリ\n",
        "test_agfragment_dir = os.path.join(test_dir, '5AGFragment') #テスト用のAGFragmentのデェレクトリ"
      ]
    },
    {
      "cell_type": "markdown",
      "metadata": {
        "id": "U43kZ734eStw"
      },
      "source": [
        "## データの理解"
      ]
    },
    {
      "cell_type": "code",
      "execution_count": null,
      "metadata": {
        "id": "_UrwdsF9ZiNt"
      },
      "outputs": [],
      "source": [
        "num_sputter_tr = (len(os.listdir(train_sputter_dir)) - 1) #.DS_Storeを除く\n",
        "num_fiber_tr = (len(os.listdir(train_fiber_dir)) - 1)\n",
        "num_block_tr = (len(os.listdir(train_block_dir)) - 1)\n",
        "num_bar_tr = (len(os.listdir(train_bar_dir)) - 1)\n",
        "num_agfragment_tr = (len(os.listdir(train_agfragment_dir)) - 1)\n",
        "\n",
        "num_sputter_ts = (len(os.listdir(test_sputter_dir)) - 1)\n",
        "num_fiber_ts = (len(os.listdir(test_fiber_dir)) - 1)\n",
        "num_block_ts = (len(os.listdir(test_block_dir)) - 1)\n",
        "num_bar_ts = (len(os.listdir(test_bar_dir)) - 1)\n",
        "num_agfragment_ts = (len(os.listdir(test_agfragment_dir)) - 1)\n",
        "\n",
        "total_train = num_sputter_tr + num_fiber_tr + num_block_tr + num_bar_tr + num_agfragment_tr\n",
        "total_test = num_sputter_ts + num_fiber_ts + num_block_ts + num_bar_ts + num_agfragment_ts"
      ]
    },
    {
      "cell_type": "code",
      "execution_count": null,
      "metadata": {
        "id": "XB5a1SZyZr4u"
      },
      "outputs": [],
      "source": [
        "print('total training sputter images:', num_sputter_tr)\n",
        "print('total training fiber images:', num_fiber_tr)\n",
        "print('total training block images:', num_block_tr)\n",
        "print('total training bar images:', num_bar_tr)\n",
        "print('total training agfragment images:', num_agfragment_tr)\n",
        "\n",
        "print('total test sputter images:', num_sputter_ts)\n",
        "print('total test fiber images:', num_fiber_ts)\n",
        "print('total test block images:', num_block_ts)\n",
        "print('total test bar images:', num_bar_ts)\n",
        "print('total test agfragment images:', num_agfragment_ts)\n",
        "print(\"--\")\n",
        "print('Total training images:', total_train)\n",
        "print('Total test images:', total_test)"
      ]
    },
    {
      "cell_type": "markdown",
      "metadata": {
        "id": "eF-joywTrnch"
      },
      "source": [
        "## データ拡張(Data augmentation)"
      ]
    },
    {
      "cell_type": "code",
      "execution_count": null,
      "metadata": {
        "id": "dB9AO5KTrvyQ"
      },
      "outputs": [],
      "source": [
        "#画像データの正規化の設定\n",
        "image_gen_train = ImageDataGenerator(\n",
        "                    rescale=1./255,\n",
        "                    rotation_range=45,\n",
        "                    width_shift_range=.15,\n",
        "                    height_shift_range=.15,\n",
        "                    horizontal_flip=True,\n",
        "                    zoom_range=0.5,\n",
        "                    zca_whitening=True, #ZCA ZCA whitening\n",
        "                    #validation_split=0.2 #検証用データセット分割\n",
        ")\n",
        "#total_val = total_train * 0.2\n",
        "\n",
        "image_gen_test = ImageDataGenerator(rescale=1./255)"
      ]
    },
    {
      "cell_type": "code",
      "execution_count": null,
      "metadata": {
        "id": "mYynsAVLsZlS"
      },
      "outputs": [],
      "source": [
        "#ディレクトリを指定\n",
        "train_data_gen = image_gen_train.flow_from_directory(batch_size=batch_size,\n",
        "                                                     directory=train_dir,\n",
        "                                                     shuffle=True,\n",
        "                                                     target_size=(IMG_HEIGHT, IMG_WIDTH),\n",
        "                                                     class_mode='binary',\n",
        "                                                     subset='training', #train\n",
        "                                                     )\n",
        "\n",
        "# # test_data_gen = image_gen_test.flow_from_directory(batch_size=batch_size,\n",
        "# #                                                    directory=test_dir,\n",
        "# #                                                    target_size=(IMG_HEIGHT, IMG_WIDTH),\n",
        "# #                                                    class_mode='binary')"
      ]
    },
    {
      "cell_type": "markdown",
      "metadata": {
        "id": "iJJfGT0Dow5B"
      },
      "source": [
        "## 配列に格納"
      ]
    },
    {
      "cell_type": "code",
      "execution_count": null,
      "metadata": {
        "id": "FB4qPYezk9st"
      },
      "outputs": [],
      "source": [
        "import glob\n",
        "\n",
        "folder = list(train_data_gen.class_indices.keys())\n",
        "print(folder)\n",
        "label_class_number = len(folder)"
      ]
    },
    {
      "cell_type": "code",
      "execution_count": null,
      "metadata": {
        "id": "ZnpQEvBGlr-3"
      },
      "outputs": [],
      "source": [
        "train_images = []\n",
        "train_labels = []\n",
        "test_images = []\n",
        "test_labels = []"
      ]
    },
    {
      "cell_type": "code",
      "execution_count": null,
      "metadata": {
        "id": "XN7ua5hzl-5Z"
      },
      "outputs": [],
      "source": [
        "#画像ファイルを順番に読み込み、リスト型配列に変換\n",
        "for index, folder_name in enumerate(folder):\n",
        "    read_data = train_dir + '/' + folder_name\n",
        "    bmp_files = glob.glob(read_data + '/*.bmp')\n",
        "\n",
        "    for i, bmp_file in enumerate(bmp_files):\n",
        "        img = load_img(bmp_file, target_size=(IMG_HEIGHT, IMG_WIDTH))\n",
        "        img_array = img_to_array(img)\n",
        "        train_images.append(img_array)\n",
        "        train_labels.append(index)\n",
        "        # train_images[i] = img_array\n",
        "        # train_labels[i] = index\n",
        "\n",
        "    for i, bmp_file in enumerate(bmp_files):\n",
        "        img = load_img(bmp_file, target_size=(IMG_HEIGHT, IMG_WIDTH))\n",
        "        img_array = img_to_array(img)\n",
        "        test_images.append(img_array)\n",
        "        test_labels.append(index)\n",
        "        # test_images[i] = img_array\n",
        "        # test_labels[i] = index\n",
        "\n",
        "#リスト型からNumPy配列に変換\n",
        "train_images = np.array(train_images)\n",
        "train_labels = np.array(train_labels)\n",
        "\n",
        "test_images = np.array(test_images)\n",
        "test_labels = np.array(test_labels)\n",
        "\n",
        "#画像データの標準化\n",
        "train_images = tf.keras.applications.vgg16.preprocess_input(train_images)"
      ]
    },
    {
      "cell_type": "markdown",
      "metadata": {
        "id": "xFXKaKLlcXLo"
      },
      "source": [
        "## 学習用画像の可視化"
      ]
    },
    {
      "cell_type": "code",
      "execution_count": null,
      "metadata": {
        "id": "XREvvRK7ceIz"
      },
      "outputs": [],
      "source": [
        "sample_training_images, _ = next(train_data_gen)"
      ]
    },
    {
      "cell_type": "code",
      "execution_count": null,
      "metadata": {
        "id": "sX5o_sNZckJD"
      },
      "outputs": [],
      "source": [
        "def plotImages(images_arr):\n",
        "    fig, axes = plt.subplots(1, 5, figsize=(20, 20))\n",
        "    axes = axes.flatten()\n",
        "    for img, ax in zip( images_arr, axes):\n",
        "        ax.imshow(img)\n",
        "        ax.axis('off')\n",
        "    plt.tight_layout()\n",
        "    plt.show()"
      ]
    },
    {
      "cell_type": "code",
      "execution_count": null,
      "metadata": {
        "id": "ryv-vt-6c9T0"
      },
      "outputs": [],
      "source": [
        "plotImages(sample_training_images[:5])"
      ]
    },
    {
      "cell_type": "markdown",
      "metadata": {
        "id": "tSmaj5NWeGXF"
      },
      "source": [
        "## モデルの構築と学習"
      ]
    },
    {
      "cell_type": "code",
      "execution_count": 86,
      "metadata": {
        "colab": {
          "base_uri": "https://localhost:8080/"
        },
        "id": "fEbkQMysrn2i",
        "outputId": "8f9906f2-fdfa-4938-a48e-266f3e9edcee"
      },
      "outputs": [
        {
          "name": "stdout",
          "output_type": "stream",
          "text": [
            "----- 1 ----------\n",
            "Epoch 1/18\n",
            "13/13 [==============================] - 4s 234ms/step - loss: 6.2103 - accuracy: 0.4184 - val_loss: 3.4533 - val_accuracy: 0.5306\n",
            "Epoch 2/18\n",
            "13/13 [==============================] - 1s 95ms/step - loss: 1.5023 - accuracy: 0.7602 - val_loss: 2.6198 - val_accuracy: 0.6122\n",
            "Epoch 3/18\n",
            "13/13 [==============================] - 1s 94ms/step - loss: 0.8208 - accuracy: 0.8316 - val_loss: 3.2377 - val_accuracy: 0.5714\n",
            "Epoch 4/18\n",
            "13/13 [==============================] - 1s 94ms/step - loss: 0.5821 - accuracy: 0.8724 - val_loss: 2.2147 - val_accuracy: 0.7551\n",
            "Epoch 5/18\n",
            "13/13 [==============================] - 1s 95ms/step - loss: 0.0832 - accuracy: 0.9745 - val_loss: 1.5936 - val_accuracy: 0.7551\n",
            "Epoch 6/18\n",
            "13/13 [==============================] - 1s 94ms/step - loss: 0.0793 - accuracy: 0.9694 - val_loss: 1.9067 - val_accuracy: 0.7347\n",
            "Epoch 7/18\n",
            "13/13 [==============================] - 1s 94ms/step - loss: 0.0103 - accuracy: 1.0000 - val_loss: 1.6708 - val_accuracy: 0.8163\n",
            "Epoch 8/18\n",
            "13/13 [==============================] - 1s 94ms/step - loss: 0.0013 - accuracy: 1.0000 - val_loss: 1.6814 - val_accuracy: 0.8163\n",
            "Epoch 9/18\n",
            "13/13 [==============================] - 1s 95ms/step - loss: 0.0012 - accuracy: 1.0000 - val_loss: 1.6768 - val_accuracy: 0.8367\n",
            "Epoch 10/18\n",
            "13/13 [==============================] - 1s 95ms/step - loss: 6.0863e-04 - accuracy: 1.0000 - val_loss: 1.6652 - val_accuracy: 0.8163\n",
            "Epoch 11/18\n",
            "13/13 [==============================] - 1s 95ms/step - loss: 5.0365e-04 - accuracy: 1.0000 - val_loss: 1.6661 - val_accuracy: 0.8163\n",
            "Epoch 12/18\n",
            "13/13 [==============================] - 1s 102ms/step - loss: 4.6075e-04 - accuracy: 1.0000 - val_loss: 1.6616 - val_accuracy: 0.8163\n",
            "Epoch 13/18\n",
            "13/13 [==============================] - 1s 95ms/step - loss: 4.0943e-04 - accuracy: 1.0000 - val_loss: 1.6656 - val_accuracy: 0.8163\n",
            "Epoch 14/18\n",
            "13/13 [==============================] - 1s 95ms/step - loss: 3.7723e-04 - accuracy: 1.0000 - val_loss: 1.6669 - val_accuracy: 0.8163\n",
            "Epoch 15/18\n",
            "13/13 [==============================] - 1s 95ms/step - loss: 3.5652e-04 - accuracy: 1.0000 - val_loss: 1.6728 - val_accuracy: 0.8163\n",
            "Epoch 16/18\n",
            "13/13 [==============================] - 1s 95ms/step - loss: 3.3906e-04 - accuracy: 1.0000 - val_loss: 1.6716 - val_accuracy: 0.8163\n",
            "Epoch 17/18\n",
            "13/13 [==============================] - 1s 96ms/step - loss: 3.1822e-04 - accuracy: 1.0000 - val_loss: 1.6751 - val_accuracy: 0.8163\n",
            "Epoch 18/18\n",
            "13/13 [==============================] - 1s 95ms/step - loss: 2.9940e-04 - accuracy: 1.0000 - val_loss: 1.6768 - val_accuracy: 0.8163\n",
            "----- 2 ----------\n",
            "Epoch 1/18\n",
            "13/13 [==============================] - 2s 113ms/step - loss: 6.7937 - accuracy: 0.3520 - val_loss: 3.0138 - val_accuracy: 0.5306\n",
            "Epoch 2/18\n",
            "13/13 [==============================] - 1s 95ms/step - loss: 1.1067 - accuracy: 0.7653 - val_loss: 0.7453 - val_accuracy: 0.7143\n",
            "Epoch 3/18\n",
            "13/13 [==============================] - 1s 96ms/step - loss: 0.7207 - accuracy: 0.8163 - val_loss: 1.1545 - val_accuracy: 0.7143\n",
            "Epoch 4/18\n",
            "13/13 [==============================] - 1s 96ms/step - loss: 0.1799 - accuracy: 0.9235 - val_loss: 1.5406 - val_accuracy: 0.6531\n",
            "Epoch 5/18\n",
            "13/13 [==============================] - 1s 95ms/step - loss: 0.1442 - accuracy: 0.9337 - val_loss: 1.0290 - val_accuracy: 0.8163\n",
            "Epoch 6/18\n",
            "13/13 [==============================] - 1s 96ms/step - loss: 0.2224 - accuracy: 0.9235 - val_loss: 1.0082 - val_accuracy: 0.7551\n",
            "Epoch 7/18\n",
            "13/13 [==============================] - 1s 96ms/step - loss: 0.2919 - accuracy: 0.9133 - val_loss: 1.5617 - val_accuracy: 0.7347\n",
            "Epoch 8/18\n",
            "13/13 [==============================] - 1s 95ms/step - loss: 0.1237 - accuracy: 0.9490 - val_loss: 2.2458 - val_accuracy: 0.6939\n",
            "Epoch 9/18\n",
            "13/13 [==============================] - 1s 97ms/step - loss: 0.1413 - accuracy: 0.9643 - val_loss: 1.7671 - val_accuracy: 0.7143\n",
            "Epoch 10/18\n",
            "13/13 [==============================] - 1s 100ms/step - loss: 0.0236 - accuracy: 0.9898 - val_loss: 1.8518 - val_accuracy: 0.7347\n",
            "Epoch 11/18\n",
            "13/13 [==============================] - 1s 99ms/step - loss: 0.0109 - accuracy: 0.9949 - val_loss: 1.6376 - val_accuracy: 0.7143\n",
            "Epoch 12/18\n",
            "13/13 [==============================] - 1s 96ms/step - loss: 0.0264 - accuracy: 0.9949 - val_loss: 1.6908 - val_accuracy: 0.7959\n",
            "Epoch 13/18\n",
            "13/13 [==============================] - 1s 96ms/step - loss: 0.0039 - accuracy: 1.0000 - val_loss: 1.5936 - val_accuracy: 0.7755\n",
            "Epoch 14/18\n",
            "13/13 [==============================] - 1s 96ms/step - loss: 7.2849e-04 - accuracy: 1.0000 - val_loss: 1.5291 - val_accuracy: 0.7551\n",
            "Epoch 15/18\n",
            "13/13 [==============================] - 1s 96ms/step - loss: 4.1461e-04 - accuracy: 1.0000 - val_loss: 1.5105 - val_accuracy: 0.7143\n",
            "Epoch 16/18\n",
            "13/13 [==============================] - 1s 96ms/step - loss: 2.9813e-04 - accuracy: 1.0000 - val_loss: 1.5041 - val_accuracy: 0.7551\n",
            "Epoch 17/18\n",
            "13/13 [==============================] - 1s 96ms/step - loss: 2.5908e-04 - accuracy: 1.0000 - val_loss: 1.5016 - val_accuracy: 0.7551\n",
            "Epoch 18/18\n",
            "13/13 [==============================] - 1s 96ms/step - loss: 2.4194e-04 - accuracy: 1.0000 - val_loss: 1.5025 - val_accuracy: 0.7347\n",
            "----- 3 ----------\n",
            "Epoch 1/18\n",
            "13/13 [==============================] - 2s 117ms/step - loss: 12.4536 - accuracy: 0.2755 - val_loss: 2.8377 - val_accuracy: 0.5918\n",
            "Epoch 2/18\n",
            "13/13 [==============================] - 1s 96ms/step - loss: 2.1753 - accuracy: 0.5867 - val_loss: 1.5252 - val_accuracy: 0.7143\n",
            "Epoch 3/18\n",
            "13/13 [==============================] - 1s 95ms/step - loss: 0.7046 - accuracy: 0.7857 - val_loss: 0.8046 - val_accuracy: 0.6939\n",
            "Epoch 4/18\n",
            "13/13 [==============================] - 1s 95ms/step - loss: 0.2722 - accuracy: 0.9082 - val_loss: 1.1629 - val_accuracy: 0.7755\n",
            "Epoch 5/18\n",
            "13/13 [==============================] - 1s 96ms/step - loss: 0.1342 - accuracy: 0.9541 - val_loss: 0.5700 - val_accuracy: 0.7755\n",
            "Epoch 6/18\n",
            "13/13 [==============================] - 1s 96ms/step - loss: 0.0986 - accuracy: 0.9694 - val_loss: 1.0911 - val_accuracy: 0.7959\n",
            "Epoch 7/18\n",
            "13/13 [==============================] - 1s 96ms/step - loss: 0.0410 - accuracy: 0.9898 - val_loss: 0.7213 - val_accuracy: 0.8367\n",
            "Epoch 8/18\n",
            "13/13 [==============================] - 1s 96ms/step - loss: 0.0127 - accuracy: 1.0000 - val_loss: 0.8966 - val_accuracy: 0.7755\n",
            "Epoch 9/18\n",
            "13/13 [==============================] - 1s 96ms/step - loss: 0.0155 - accuracy: 0.9949 - val_loss: 0.6089 - val_accuracy: 0.8367\n",
            "Epoch 10/18\n",
            "13/13 [==============================] - 1s 96ms/step - loss: 0.0071 - accuracy: 1.0000 - val_loss: 0.6690 - val_accuracy: 0.8367\n",
            "Epoch 11/18\n",
            "13/13 [==============================] - 1s 96ms/step - loss: 0.0034 - accuracy: 1.0000 - val_loss: 0.6596 - val_accuracy: 0.8367\n",
            "Epoch 12/18\n",
            "13/13 [==============================] - 1s 97ms/step - loss: 0.0031 - accuracy: 1.0000 - val_loss: 0.6682 - val_accuracy: 0.8571\n",
            "Epoch 13/18\n",
            "13/13 [==============================] - 1s 98ms/step - loss: 0.0026 - accuracy: 1.0000 - val_loss: 0.6648 - val_accuracy: 0.8571\n",
            "Epoch 14/18\n",
            "13/13 [==============================] - 1s 97ms/step - loss: 0.0024 - accuracy: 1.0000 - val_loss: 0.6847 - val_accuracy: 0.8571\n",
            "Epoch 15/18\n",
            "13/13 [==============================] - 1s 97ms/step - loss: 0.0021 - accuracy: 1.0000 - val_loss: 0.6671 - val_accuracy: 0.8571\n",
            "Epoch 16/18\n",
            "13/13 [==============================] - 1s 102ms/step - loss: 0.0020 - accuracy: 1.0000 - val_loss: 0.6835 - val_accuracy: 0.8571\n",
            "Epoch 17/18\n",
            "13/13 [==============================] - 1s 102ms/step - loss: 0.0019 - accuracy: 1.0000 - val_loss: 0.6917 - val_accuracy: 0.8571\n",
            "Epoch 18/18\n",
            "13/13 [==============================] - 1s 97ms/step - loss: 0.0018 - accuracy: 1.0000 - val_loss: 0.6703 - val_accuracy: 0.8571\n",
            "----- 4 ----------\n",
            "Epoch 1/18\n",
            "13/13 [==============================] - 2s 113ms/step - loss: 6.2118 - accuracy: 0.3622 - val_loss: 1.6601 - val_accuracy: 0.6939\n",
            "Epoch 2/18\n",
            "13/13 [==============================] - 1s 97ms/step - loss: 1.0460 - accuracy: 0.7857 - val_loss: 0.7454 - val_accuracy: 0.8163\n",
            "Epoch 3/18\n",
            "13/13 [==============================] - 1s 96ms/step - loss: 0.4489 - accuracy: 0.8724 - val_loss: 0.7966 - val_accuracy: 0.8163\n",
            "Epoch 4/18\n",
            "13/13 [==============================] - 1s 96ms/step - loss: 0.1435 - accuracy: 0.9439 - val_loss: 1.0902 - val_accuracy: 0.7143\n",
            "Epoch 5/18\n",
            "13/13 [==============================] - 1s 98ms/step - loss: 0.1077 - accuracy: 0.9592 - val_loss: 1.0057 - val_accuracy: 0.7959\n",
            "Epoch 6/18\n",
            "13/13 [==============================] - 1s 96ms/step - loss: 0.0391 - accuracy: 0.9847 - val_loss: 1.3278 - val_accuracy: 0.7551\n",
            "Epoch 7/18\n",
            "13/13 [==============================] - 1s 97ms/step - loss: 0.0111 - accuracy: 1.0000 - val_loss: 1.1680 - val_accuracy: 0.7755\n",
            "Epoch 8/18\n",
            "13/13 [==============================] - 1s 97ms/step - loss: 0.0053 - accuracy: 1.0000 - val_loss: 1.0385 - val_accuracy: 0.8163\n",
            "Epoch 9/18\n",
            "13/13 [==============================] - 1s 97ms/step - loss: 0.0037 - accuracy: 1.0000 - val_loss: 1.0944 - val_accuracy: 0.7959\n",
            "Epoch 10/18\n",
            "13/13 [==============================] - 1s 103ms/step - loss: 0.0030 - accuracy: 1.0000 - val_loss: 1.1274 - val_accuracy: 0.7959\n",
            "Epoch 11/18\n",
            "13/13 [==============================] - 1s 97ms/step - loss: 0.0027 - accuracy: 1.0000 - val_loss: 1.1154 - val_accuracy: 0.7959\n",
            "Epoch 12/18\n",
            "13/13 [==============================] - 1s 98ms/step - loss: 0.0022 - accuracy: 1.0000 - val_loss: 1.1565 - val_accuracy: 0.7959\n",
            "Epoch 13/18\n",
            "13/13 [==============================] - 1s 97ms/step - loss: 0.0021 - accuracy: 1.0000 - val_loss: 1.1355 - val_accuracy: 0.7959\n",
            "Epoch 14/18\n",
            "13/13 [==============================] - 1s 98ms/step - loss: 0.0031 - accuracy: 1.0000 - val_loss: 1.1195 - val_accuracy: 0.7959\n",
            "Epoch 15/18\n",
            "13/13 [==============================] - 1s 97ms/step - loss: 0.0018 - accuracy: 1.0000 - val_loss: 1.2366 - val_accuracy: 0.7959\n",
            "Epoch 16/18\n",
            "13/13 [==============================] - 1s 97ms/step - loss: 0.0018 - accuracy: 1.0000 - val_loss: 1.1477 - val_accuracy: 0.7959\n",
            "Epoch 17/18\n",
            "13/13 [==============================] - 1s 97ms/step - loss: 0.0014 - accuracy: 1.0000 - val_loss: 1.1560 - val_accuracy: 0.7959\n",
            "Epoch 18/18\n",
            "13/13 [==============================] - 1s 98ms/step - loss: 0.0013 - accuracy: 1.0000 - val_loss: 1.1443 - val_accuracy: 0.7959\n",
            "----- 5 ----------\n",
            "Epoch 1/18\n",
            "13/13 [==============================] - 3s 119ms/step - loss: 8.3277 - accuracy: 0.3520 - val_loss: 3.1073 - val_accuracy: 0.4490\n",
            "Epoch 2/18\n",
            "13/13 [==============================] - 1s 97ms/step - loss: 1.5546 - accuracy: 0.6888 - val_loss: 1.7559 - val_accuracy: 0.5714\n",
            "Epoch 3/18\n",
            "13/13 [==============================] - 1s 98ms/step - loss: 0.6127 - accuracy: 0.7806 - val_loss: 1.4219 - val_accuracy: 0.7755\n",
            "Epoch 4/18\n",
            "13/13 [==============================] - 1s 97ms/step - loss: 0.4051 - accuracy: 0.8316 - val_loss: 1.2822 - val_accuracy: 0.6531\n",
            "Epoch 5/18\n",
            "13/13 [==============================] - 1s 97ms/step - loss: 0.1612 - accuracy: 0.9439 - val_loss: 0.6847 - val_accuracy: 0.7959\n",
            "Epoch 6/18\n",
            "13/13 [==============================] - 1s 97ms/step - loss: 0.1474 - accuracy: 0.9490 - val_loss: 0.9109 - val_accuracy: 0.8571\n",
            "Epoch 7/18\n",
            "13/13 [==============================] - 1s 98ms/step - loss: 0.0639 - accuracy: 0.9796 - val_loss: 0.6015 - val_accuracy: 0.8571\n",
            "Epoch 8/18\n",
            "13/13 [==============================] - 1s 98ms/step - loss: 0.0447 - accuracy: 0.9847 - val_loss: 0.6900 - val_accuracy: 0.9184\n",
            "Epoch 9/18\n",
            "13/13 [==============================] - 1s 98ms/step - loss: 0.1954 - accuracy: 0.9235 - val_loss: 0.8073 - val_accuracy: 0.7959\n",
            "Epoch 10/18\n",
            "13/13 [==============================] - 1s 98ms/step - loss: 0.0680 - accuracy: 0.9796 - val_loss: 1.1622 - val_accuracy: 0.8163\n",
            "Epoch 11/18\n",
            "13/13 [==============================] - 1s 99ms/step - loss: 0.0290 - accuracy: 0.9898 - val_loss: 0.6706 - val_accuracy: 0.8571\n",
            "Epoch 12/18\n",
            "13/13 [==============================] - 1s 106ms/step - loss: 0.0038 - accuracy: 1.0000 - val_loss: 0.6476 - val_accuracy: 0.8776\n",
            "Epoch 13/18\n",
            "13/13 [==============================] - 1s 97ms/step - loss: 0.0039 - accuracy: 1.0000 - val_loss: 0.6799 - val_accuracy: 0.8776\n",
            "Epoch 14/18\n",
            "13/13 [==============================] - 1s 99ms/step - loss: 0.0014 - accuracy: 1.0000 - val_loss: 0.6947 - val_accuracy: 0.8776\n",
            "Epoch 15/18\n",
            "13/13 [==============================] - 1s 99ms/step - loss: 8.4016e-04 - accuracy: 1.0000 - val_loss: 0.6882 - val_accuracy: 0.8980\n",
            "Epoch 16/18\n",
            "13/13 [==============================] - 1s 98ms/step - loss: 7.1722e-04 - accuracy: 1.0000 - val_loss: 0.6804 - val_accuracy: 0.8980\n",
            "Epoch 17/18\n",
            "13/13 [==============================] - 1s 98ms/step - loss: 6.4706e-04 - accuracy: 1.0000 - val_loss: 0.6736 - val_accuracy: 0.8980\n",
            "Epoch 18/18\n",
            "13/13 [==============================] - 1s 98ms/step - loss: 5.9442e-04 - accuracy: 1.0000 - val_loss: 0.6695 - val_accuracy: 0.8980\n",
            "Model: \"model_9\"\n",
            "_________________________________________________________________\n",
            " Layer (type)                Output Shape              Param #   \n",
            "=================================================================\n",
            " input_10 (InputLayer)       [(None, 224, 224, 3)]     0         \n",
            "                                                                 \n",
            " block1_conv1 (Conv2D)       (None, 224, 224, 64)      1792      \n",
            "                                                                 \n",
            " block1_conv2 (Conv2D)       (None, 224, 224, 64)      36928     \n",
            "                                                                 \n",
            " block1_pool (MaxPooling2D)  (None, 112, 112, 64)      0         \n",
            "                                                                 \n",
            " block2_conv1 (Conv2D)       (None, 112, 112, 128)     73856     \n",
            "                                                                 \n",
            " block2_conv2 (Conv2D)       (None, 112, 112, 128)     147584    \n",
            "                                                                 \n",
            " block2_pool (MaxPooling2D)  (None, 56, 56, 128)       0         \n",
            "                                                                 \n",
            " block3_conv1 (Conv2D)       (None, 56, 56, 256)       295168    \n",
            "                                                                 \n",
            " block3_conv2 (Conv2D)       (None, 56, 56, 256)       590080    \n",
            "                                                                 \n",
            " block3_conv3 (Conv2D)       (None, 56, 56, 256)       590080    \n",
            "                                                                 \n",
            " block3_pool (MaxPooling2D)  (None, 28, 28, 256)       0         \n",
            "                                                                 \n",
            " block4_conv1 (Conv2D)       (None, 28, 28, 512)       1180160   \n",
            "                                                                 \n",
            " block4_conv2 (Conv2D)       (None, 28, 28, 512)       2359808   \n",
            "                                                                 \n",
            " block4_conv3 (Conv2D)       (None, 28, 28, 512)       2359808   \n",
            "                                                                 \n",
            " block4_pool (MaxPooling2D)  (None, 14, 14, 512)       0         \n",
            "                                                                 \n",
            " block5_conv1 (Conv2D)       (None, 14, 14, 512)       2359808   \n",
            "                                                                 \n",
            " block5_conv2 (Conv2D)       (None, 14, 14, 512)       2359808   \n",
            "                                                                 \n",
            " block5_conv3 (Conv2D)       (None, 14, 14, 512)       2359808   \n",
            "                                                                 \n",
            " block5_pool (MaxPooling2D)  (None, 7, 7, 512)         0         \n",
            "                                                                 \n",
            " flatten_9 (Flatten)         (None, 25088)             0         \n",
            "                                                                 \n",
            " dense_27 (Dense)            (None, 256)               6422784   \n",
            "                                                                 \n",
            " dense_28 (Dense)            (None, 256)               65792     \n",
            "                                                                 \n",
            " dense_29 (Dense)            (None, 5)                 1285      \n",
            "                                                                 \n",
            "=================================================================\n",
            "Total params: 21,204,549\n",
            "Trainable params: 6,489,861\n",
            "Non-trainable params: 14,714,688\n",
            "_________________________________________________________________\n"
          ]
        }
      ],
      "source": [
        "#交差検証\n",
        "kf = KFold(n_splits=label_class_number, shuffle=True)\n",
        "\n",
        "i = 0\n",
        "\n",
        "for train_index, valid_index in kf.split(train_images, train_labels):\n",
        "    #x:画像, y:ラベル\n",
        "    X_tra, X_valid = train_images[train_index], train_images[valid_index]\n",
        "    y_tra, y_valid = train_labels[train_index], train_labels[valid_index]\n",
        "\n",
        "    #転移学習のベースモデルとしてVGG16のモデルと重みをインポート\n",
        "    vgg16_model = VGG16(include_top=False, #全結合層を除外\n",
        "                        weights='imagenet',\n",
        "                        #input_tensor=train_images,\n",
        "                        input_shape=train_data_gen.image_shape,\n",
        "    )\n",
        "    \n",
        "    #重みを固定\n",
        "    vgg16_model.trainable = False\n",
        "\n",
        "    #全結合層の構築\n",
        "    x = vgg16_model.output\n",
        "    x = Flatten()(x)\n",
        "    x = Dense(256, activation='relu')(x)\n",
        "    x = Dense(256, activation='relu')(x)\n",
        "    #x = Dropout(0.2)(x)\n",
        "    \n",
        "    #入力画像の形状\n",
        "    transfer_learning_inputs = vgg16_model.inputs\n",
        "\n",
        "    #predictions層の追加\n",
        "    transfer_learning_prediction = Dense(\n",
        "                                    units=label_class_number, activation='softmax')(x)\n",
        "\n",
        "    #VGG16と構築した全結合層を結合\n",
        "    transfer_learning_model = tf.keras.Model(inputs=transfer_learning_inputs,\n",
        "                                            outputs=transfer_learning_prediction)\n",
        "\n",
        "    #モデルのコンパイル\n",
        "    transfer_learning_model.compile(optimizer='adam',\n",
        "                                    loss='sparse_categorical_crossentropy', #categorical_crossentropyだとエラー\n",
        "                                    metrics=['accuracy'])    \n",
        "\n",
        "    i+=1\n",
        "    print(\"-----\", i, \"----------\")\n",
        "    #モデルの学習\n",
        "    history = transfer_learning_model.fit(X_tra, y_tra,\n",
        "              batch_size=batch_size,\n",
        "              epochs=epochs,\n",
        "              verbose=1,\n",
        "              validation_data=(X_valid, y_valid))\n",
        "    \n",
        "# 構築したモデルを確認\n",
        "transfer_learning_model.summary()"
      ]
    },
    {
      "cell_type": "markdown",
      "metadata": {
        "id": "ItHROOE-buIb"
      },
      "source": [
        "## 損失関数、正解率"
      ]
    },
    {
      "cell_type": "code",
      "execution_count": 87,
      "metadata": {
        "colab": {
          "base_uri": "https://localhost:8080/"
        },
        "id": "Jo9woFkNbxEQ",
        "outputId": "72c12912-f618-4ed3-e002-8c52e3d5700e"
      },
      "outputs": [
        {
          "name": "stdout",
          "output_type": "stream",
          "text": [
            "テストデータの画像分類結果\n",
            "16/16 [==============================] - 1s 77ms/step - loss: 0.3863 - accuracy: 0.8939\n",
            "[損失関数, 正解率]\n",
            "[ 0.3862561285495758 0.8938775658607483 ]\n"
          ]
        }
      ],
      "source": [
        "#テストデータの画像分類結果を標準出力\n",
        "print(\"テストデータの画像分類結果\")\n",
        "test_loss, test_acc = transfer_learning_model.evaluate(test_images, test_labels,\n",
        "                                     batch_size=batch_size,\n",
        "                                     verbose=1)\n",
        "print(\"[損失関数, 正解率]\")\n",
        "print(\"[\", test_loss, test_acc, \"]\")"
      ]
    },
    {
      "cell_type": "markdown",
      "metadata": {
        "id": "S_UK-DDhYmc5"
      },
      "source": [
        "## グラフ"
      ]
    },
    {
      "cell_type": "code",
      "execution_count": 89,
      "metadata": {
        "colab": {
          "base_uri": "https://localhost:8080/",
          "height": 964
        },
        "id": "Rnw_QZaqZnhi",
        "outputId": "6cf23fd8-4e25-4721-d021-6579a3738346"
      },
      "outputs": [
        {
          "name": "stderr",
          "output_type": "stream",
          "text": [
            "/usr/local/lib/python3.7/dist-packages/ipykernel_launcher.py:67: UserWarning: Pandas doesn't allow columns to be created via a new attribute name - see https://pandas.pydata.org/pandas-docs/stable/indexing.html#attribute-access\n"
          ]
        },
        {
          "data": {
            "image/png": "[encoded data removed]",
            "text/plain": [
              "<Figure size 1512x504 with 4 Axes>"
            ]
          },
          "metadata": {
            "needs_background": "light"
          },
          "output_type": "display_data"
        },
        {
          "name": "stdout",
          "output_type": "stream",
          "text": [
            "\n"
          ]
        },
        {
          "data": {
            "image/png": "[encoded data removed]",
            "text/plain": [
              "<Figure size 576x576 with 2 Axes>"
            ]
          },
          "metadata": {
            "needs_background": "light"
          },
          "output_type": "display_data"
        }
      ],
      "source": [
        "#正解率\n",
        "def class_accuracy(label, conf_mat):\n",
        "    return (conf_mat[label][label] + (np.sum(conf_mat) - (np.sum(conf_mat[:, label])+np.sum(conf_mat[label])-conf_mat[label][label]))) / np.sum(conf_mat)\n",
        "    \n",
        "#精度(適合率)\n",
        "def class_precision(label, conf_mat):\n",
        "    return conf_mat[label][label] / np.sum(conf_mat[label])\n",
        "\n",
        "#再現率\n",
        "def class_recall(label, conf_mat):\n",
        "    return conf_mat[label][label] / np.sum(conf_mat[:, label])\n",
        "\n",
        "#予測\n",
        "predictions = transfer_learning_model.predict(test_images)\n",
        "pred = predictions.argmax(axis=1)\n",
        "\n",
        "#混同行列\n",
        "conf_mat = confusion_matrix(test_labels, pred)\n",
        "#print(conf_mat)\n",
        "labels = [\"Sputter\", \"Fiber\", \"Block\", \"Bar\", \"A/G Fragment\"]\n",
        "\n",
        "Accuracy = []\n",
        "Precision = []\n",
        "Recall = []\n",
        "for i in range(label_class_number):\n",
        "    Accuracy = np.append(Accuracy, class_accuracy(i, conf_mat))\n",
        "    Precision = np.append(Precision, class_precision(i, conf_mat))\n",
        "    Recall = np.append(Recall, class_recall(i, conf_mat))\n",
        "\n",
        "table_values = []\n",
        "table_values = np.append(table_values, Accuracy)\n",
        "table_values = np.append(table_values, Precision)\n",
        "table_values = np.append(table_values, Recall)\n",
        "table_values = np.round(table_values * 100, 1)\n",
        "table_values = table_values.reshape(3, -1)\n",
        "#print(table_values)\n",
        "\n",
        "#表\n",
        "nrow = 1\n",
        "ncol = 3\n",
        "plt.figure(figsize=(7*ncol, 7*nrow))\n",
        "\n",
        "#表1\n",
        "plt.subplot(nrow, ncol, 1)\n",
        "conf_mat = confusion_matrix(test_labels, pred)\n",
        "cm = conf_mat\n",
        "cm = pd.DataFrame(data=cm, index=labels, columns=labels)\n",
        "sns.heatmap(cm, square=True, cbar=True, annot=True, cmap='Blues')\n",
        "plt.yticks(rotation=0)\n",
        "plt.xlabel(\"Pre\", fontsize=13, rotation=0)\n",
        "plt.ylabel(\"GT\", fontsize=13)\n",
        "ax = plt.gca()\n",
        "ax.set_ylim(len(cm), 0)\n",
        "\n",
        "#表2\n",
        "plt.subplot(nrow, ncol, 2)\n",
        "df = pd.DataFrame(conf_mat, columns=labels)\n",
        "\n",
        "plt.title('Confusion Matrix', loc='left')\n",
        "plt.axis('off')\n",
        "plt.table(cellText=df.values, colLabels=df.columns, rowLabels=df.columns, rowColours=[\"deepskyblue\"]*5, colColours=[\"lightskyblue\"]*5,loc=\"center\")\n",
        "\n",
        "#表3\n",
        "plt.subplot(nrow, ncol, 3)\n",
        "labels_metrics = [\"Accuracy\", \"Precision\", \"Recall\"]\n",
        "df3 = pd.DataFrame(table_values, columns=labels, index=labels_metrics)\n",
        "df3.colums=labels_metrics\n",
        "\n",
        "plt.title('Metrics', loc='center')\n",
        "plt.axis('off')\n",
        "plt.table(cellText=df3.values, colLabels=df3.columns, rowLabels=df3.index, rowColours=[\"deepskyblue\"]*3, colColours=[\"lightskyblue\"]*5, loc=\"center\")\n",
        "\n",
        "\n",
        "plt.show()\n",
        "print()\n",
        "\n",
        "#訓練と検証\n",
        "acc = history.history['accuracy']\n",
        "val_acc = history.history['val_accuracy']\n",
        "\n",
        "loss = history.history['loss']\n",
        "val_loss = history.history['val_loss']\n",
        "\n",
        "#正解率\n",
        "plt.figure(figsize=(8, 8))\n",
        "plt.subplot(2, 1, 1)\n",
        "plt.plot(acc, label='Training Accuracy')\n",
        "plt.plot(val_acc, label='Validation Accuracy')\n",
        "plt.legend(loc='lower right')\n",
        "plt.ylabel('Accuracy')\n",
        "plt.ylim([min(plt.ylim()),1])\n",
        "plt.title('Training and Validation Accuracy')\n",
        "\n",
        "#損失関数\n",
        "plt.subplot(2, 1, 2)\n",
        "plt.plot(loss, label='Training Loss')\n",
        "plt.plot(val_loss, label='Validation Loss')\n",
        "plt.legend(loc='upper right')\n",
        "plt.ylabel('Cross Entropy')\n",
        "plt.ylim([0, 10.0])\n",
        "plt.title('Training and Validation Loss')\n",
        "plt.xlabel('epoch')\n",
        "plt.show()"
      ]
    }
  ],
  "metadata": {
    "accelerator": "GPU",
    "colab": {
      "collapsed_sections": [
        "xFXKaKLlcXLo"
      ],
      "name": "tanpopo_cnn_2.ipynb",
      "provenance": []
    },
    "gpuClass": "standard",
    "kernelspec": {
      "display_name": "Python 3.8.9 64-bit",
      "language": "python",
      "name": "python3"
    },
    "language_info": {
      "name": "python",
      "version": "3.8.9"
    },
    "vscode": {
      "interpreter": {
        "hash": "31f2aee4e71d21fbe5cf8b01ff0e069b9275f58929596ceb00d14d90e3e16cd6"
      }
    }
  },
  "nbformat": 4,
  "nbformat_minor": 0
}
